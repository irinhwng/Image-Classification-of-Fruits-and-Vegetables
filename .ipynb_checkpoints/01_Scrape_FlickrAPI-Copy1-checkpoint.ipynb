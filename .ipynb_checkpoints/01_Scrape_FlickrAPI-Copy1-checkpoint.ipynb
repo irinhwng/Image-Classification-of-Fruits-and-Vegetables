{
 "cells": [
  {
   "cell_type": "code",
   "execution_count": null,
   "metadata": {},
   "outputs": [],
   "source": [
    "# scraping technique from Yunjey Choi on github\n",
    "# source: https://gist.github.com/yunjey/14e3a069ad2aa3adf72dee93a53117d6"
   ]
  },
  {
   "cell_type": "markdown",
   "metadata": {},
   "source": [
    "# Checklist\n",
    "Web Scraped the following fruits and vegetables from FlickrAPI:\n",
    "- apple (6,000)\n"
   ]
  },
  {
   "cell_type": "code",
   "execution_count": 3,
   "metadata": {},
   "outputs": [],
   "source": [
    "import flickrapi"
   ]
  },
  {
   "cell_type": "code",
   "execution_count": 4,
   "metadata": {},
   "outputs": [],
   "source": [
    "import urllib\n",
    "from PIL import Image"
   ]
  },
  {
   "cell_type": "code",
   "execution_count": 5,
   "metadata": {},
   "outputs": [],
   "source": [
    "from urllib import request"
   ]
  },
  {
   "cell_type": "code",
   "execution_count": 6,
   "metadata": {},
   "outputs": [],
   "source": [
    "from random import randint\n",
    "from time import sleep"
   ]
  },
  {
   "cell_type": "code",
   "execution_count": 10,
   "metadata": {},
   "outputs": [
    {
     "name": "stdout",
     "output_type": "stream",
     "text": [
      "0\n",
      "https://live.staticflickr.com/2950/15165630350_d6c66a346c_c.jpg\n",
      "1\n",
      "https://live.staticflickr.com/647/21982802134_e4c135c7f8_c.jpg\n",
      "2\n",
      "3\n",
      "https://live.staticflickr.com/8649/16248524621_2216a1388d_c.jpg\n",
      "4\n",
      "https://live.staticflickr.com/8031/7910673688_c664fbd2d7_c.jpg\n",
      "5\n",
      "6\n"
     ]
    }
   ],
   "source": [
    "api_key = 'b8acfc11b9e579ed62f0a14b3e1c019c'\n",
    "secret_key = '18a4b1e31a48e855'\n",
    "# Flickr api access key \n",
    "flickr=flickrapi.FlickrAPI(api_key, secret_key, cache=True)\n",
    "\n",
    "\n",
    "keyword = 'apple'\n",
    "\n",
    "tag = keyword\n",
    "photos = flickr.walk(text=keyword,\n",
    "                        extras='url_c',\n",
    "                        per_page= 500, \n",
    "                        privacy_filter = 1,\n",
    "                        safe_search = 1, \n",
    "                        content_type = 4, # may be you can try different numbers..\n",
    "                        sort = 'relevance') #get all pictures with a black background \n",
    "    \n",
    "\n",
    "urls = []\n",
    "n = 0\n",
    "for x, photo in enumerate(photos):\n",
    "    print (x)\n",
    "    \n",
    "    if x > 5:\n",
    "        break\n",
    "\n",
    "    url = photo.get('url_c')\n",
    "    if url:\n",
    "        urls.append(url)\n",
    "        print (url)\n",
    "        n = n+1\n",
    "        # Download image from the url and save it to '00001.jpg'\n",
    "        urllib.request.urlretrieve(url, f'./apples_uncleaned/{n}_apple.jpg')\n",
    "    else:\n",
    "        pass\n",
    "    \n",
    "    sleep(randint(1,2))\n",
    "    \n",
    "   \n",
    "\n",
    "    \n",
    "            \n",
    "\n",
    "    \n",
    "    \n",
    "# Resize the image and overwrite it\n",
    "# image = Image.open('00001.jpg') \n",
    "# image = image.resize((256, 256), Image.ANTIALIAS)\n",
    "# image.save('00001.jpg')\n",
    "\n",
    "# request.urlretrieve(\"http://www.digimouth.com/news/media/2011/09/google-logo.jpg\", \"local-filename.jpg\")"
   ]
  },
  {
   "cell_type": "code",
   "execution_count": null,
   "metadata": {},
   "outputs": [],
   "source": []
  }
 ],
 "metadata": {
  "kernelspec": {
   "display_name": "Python 3",
   "language": "python",
   "name": "python3"
  },
  "language_info": {
   "codemirror_mode": {
    "name": "ipython",
    "version": 3
   },
   "file_extension": ".py",
   "mimetype": "text/x-python",
   "name": "python",
   "nbconvert_exporter": "python",
   "pygments_lexer": "ipython3",
   "version": "3.6.4"
  }
 },
 "nbformat": 4,
 "nbformat_minor": 2
}
