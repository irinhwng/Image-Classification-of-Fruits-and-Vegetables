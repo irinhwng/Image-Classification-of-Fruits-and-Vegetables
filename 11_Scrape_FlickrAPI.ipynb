{
 "cells": [
  {
   "cell_type": "code",
   "execution_count": null,
   "metadata": {},
   "outputs": [],
   "source": [
    "# scraping technique from Yunjey Choi on github\n",
    "# source: https://gist.github.com/yunjey/14e3a069ad2aa3adf72dee93a53117d6"
   ]
  },
  {
   "cell_type": "markdown",
   "metadata": {},
   "source": [
    "# Checklist\n",
    "Web Scraped the following fruits and vegetables from FlickrAPI:\n",
    "- apple \n",
    "- tomato \n",
    "- lemon\n",
    "- bellpepper\n",
    "- onion\n",
    "- pear\n",
    "- strawberry"
   ]
  },
  {
   "cell_type": "code",
   "execution_count": 3,
   "metadata": {},
   "outputs": [],
   "source": [
    "import flickrapi"
   ]
  },
  {
   "cell_type": "code",
   "execution_count": 4,
   "metadata": {},
   "outputs": [],
   "source": [
    "import urllib\n",
    "from PIL import Image"
   ]
  },
  {
   "cell_type": "code",
   "execution_count": 5,
   "metadata": {},
   "outputs": [],
   "source": [
    "from urllib import request"
   ]
  },
  {
   "cell_type": "code",
   "execution_count": 6,
   "metadata": {},
   "outputs": [],
   "source": [
    "from time import sleep"
   ]
  },
  {
   "cell_type": "code",
   "execution_count": null,
   "metadata": {},
   "outputs": [],
   "source": [
    "import time "
   ]
  },
  {
   "cell_type": "code",
   "execution_count": null,
   "metadata": {},
   "outputs": [],
   "source": [
    "# for the sake of confidentiality, api keys will not be shown\n",
    "api_key = 'this_is_confidential'\n",
    "secret_key = 'this_is_confidential'\n",
    "\n",
    "# Flickr api access key \n",
    "flickr=flickrapi.FlickrAPI(api_key, secret_key, cache=True)\n",
    "\n",
    "#this is where I change fruit and vegetable names \n",
    "keyword = 'apple'\n",
    "\n",
    "tag = keyword\n",
    "\n",
    "# these are the specific parameters when searching for photos through the FlickrApi\n",
    "# more parameters can be used from https://www.flickr.com/services/api/flickr.photos.search.html\n",
    "photos = flickr.walk(text=keyword,\n",
    "                        extras='url_c', \n",
    "                        per_page= 500, \n",
    "                        privacy_filter = 1,\n",
    "                        safe_search = 1, \n",
    "                        content_type = 4, # may be you can try different numbers..\n",
    "                        sort = 'relevance') #get all pictures with a black background \n",
    "    \n",
    "\n",
    "urls = []\n",
    "n = 0\n",
    "for x, photo in enumerate(photos):\n",
    "    print (x)\n",
    "    start_time = time.time()\n",
    "    \n",
    "    if x > 6_000:\n",
    "        break\n",
    "\n",
    "    url = photo.get('url_c')\n",
    "    if url:\n",
    "        urls.append(url)\n",
    "        print (url)\n",
    "        n = n+1\n",
    "        \n",
    "        # Download image from the url and save it as '1_{fruit_name}.jpg'\n",
    "        urllib.request.urlretrieve(url, f'./images/01_apple_uncleaned/{n}_apple.jpg')\n",
    "    else:\n",
    "        pass\n",
    "    \n",
    "    end_time = time.time()\n",
    "    sleep_len = 0 if (1 - (end_time - start_time)) < 0 else (1-(end_time - start_time))\n",
    "    \n",
    "    time.sleep(sleep_len)"
   ]
  },
  {
   "cell_type": "markdown",
   "metadata": {},
   "source": [
    "# Checkpoint\n",
    "- At this point, we scraped photos for 7 specific fruits and vegetables\n",
    "- This is where it gets tedious\n",
    "- Since we are scraping from Flickr, there is a chance an apple is not an apple\n",
    "- After saving them, we must delete pictures not fit for modeling \n",
    "- After we cleaned our flickr data, let's name it as `01_{produce_name}_cleaned`\n",
    "- These folders will be stored in the `images` folder"
   ]
  },
  {
   "cell_type": "code",
   "execution_count": null,
   "metadata": {},
   "outputs": [],
   "source": []
  }
 ],
 "metadata": {
  "kernelspec": {
   "display_name": "Python 3",
   "language": "python",
   "name": "python3"
  },
  "language_info": {
   "codemirror_mode": {
    "name": "ipython",
    "version": 3
   },
   "file_extension": ".py",
   "mimetype": "text/x-python",
   "name": "python",
   "nbconvert_exporter": "python",
   "pygments_lexer": "ipython3",
   "version": "3.6.4"
  }
 },
 "nbformat": 4,
 "nbformat_minor": 2
}
