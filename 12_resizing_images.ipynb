{
 "cells": [
  {
   "cell_type": "code",
   "execution_count": 1,
   "metadata": {},
   "outputs": [],
   "source": [
    "import cv2\n",
    "import numpy as np\n",
    "import matplotlib as plt\n",
    "%matplotlib inline\n",
    "from PIL import Image"
   ]
  },
  {
   "cell_type": "code",
   "execution_count": 2,
   "metadata": {
    "scrolled": true
   },
   "outputs": [
    {
     "data": {
      "text/plain": [
       "True"
      ]
     },
     "execution_count": 2,
     "metadata": {},
     "output_type": "execute_result"
    }
   ],
   "source": [
    "#test\n",
    "\n",
    "#resizing to pixels 100x100\n",
    "# image = Image.open('./03_lemon_uncleanedkaggle/1_lemon.jpg') \n",
    "# image = image.resize((100, 100), Image.ANTIALIAS)\n",
    "# image.save('./04_lemon_greyscale_kag/test.jpg')\n",
    "    \n",
    "\n",
    "#this code worked!"
   ]
  },
  {
   "cell_type": "code",
   "execution_count": null,
   "metadata": {},
   "outputs": [],
   "source": [
    "for i in range(1, 8_000):\n",
    "    try:\n",
    "        # opening all images from compiled apples folder\n",
    "        #note: the compiled folders are not in the repository \n",
    "        image = Image.open(f'./images/compiled_apples/{i}_apple.jpg') \n",
    "        \n",
    "        #resizing to pixels 100x100\n",
    "        image = image.resize((100, 100), Image.ANTIALIAS)\n",
    "        \n",
    "        #save it to new folder\n",
    "        image.save(f'./03_apple_resize/{i}_apple.jpg')\n",
    "        print(f'Saving apple image: {i}')\n",
    "            \n",
    "    except:\n",
    "        pass\n",
    "\n",
    "    "
   ]
  }
 ],
 "metadata": {
  "kernelspec": {
   "display_name": "Python 3",
   "language": "python",
   "name": "python3"
  },
  "language_info": {
   "codemirror_mode": {
    "name": "ipython",
    "version": 3
   },
   "file_extension": ".py",
   "mimetype": "text/x-python",
   "name": "python",
   "nbconvert_exporter": "python",
   "pygments_lexer": "ipython3",
   "version": "3.6.4"
  }
 },
 "nbformat": 4,
 "nbformat_minor": 2
}
